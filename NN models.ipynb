{
 "cells": [
  {
   "cell_type": "code",
   "execution_count": 7,
   "metadata": {},
   "outputs": [],
   "source": [
    "import pandas as pd\n",
    "import pandas_datareader as pdr\n",
    "import yfinance as yf\n",
    "import statsmodels.tsa.stattools as ts\n",
    "import datetime\n",
    "from pandas.plotting import lag_plot, autocorrelation_plot\n",
    "from statsmodels.graphics.tsaplots import plot_acf\n",
    "import matplotlib.pyplot as plt\n",
    "from sklearn.metrics import mean_squared_error\n",
    "from sklearn.model_selection import train_test_split\n",
    "from statsmodels.tsa.ar_model import AR\n",
    "from statsmodels.tsa.arima_model import ARIMA\n",
    "import numpy as np\n",
    "\n",
    "yf.pdr_override()"
   ]
  },
  {
   "cell_type": "code",
   "execution_count": 28,
   "metadata": {},
   "outputs": [],
   "source": [
    "from keras.models import Sequential\n",
    "from keras.layers import LSTM\n",
    "from keras.layers import Dense"
   ]
  },
  {
   "cell_type": "code",
   "execution_count": 2,
   "metadata": {},
   "outputs": [],
   "source": [
    "TRAIN_TEST_RATIO = 0.2\n",
    "yf.pdr_override()"
   ]
  },
  {
   "cell_type": "code",
   "execution_count": 3,
   "metadata": {},
   "outputs": [
    {
     "name": "stdout",
     "output_type": "stream",
     "text": [
      "Period: 2020-03-01 to 2020-08-11\n"
     ]
    }
   ],
   "source": [
    "covid_pharma_tickers = ['PFE', 'MRNA', 'JNJ', 'AZN', 'NVAX']\n",
    "start = '2020-03-01'\n",
    "end = datetime.datetime.now().date().strftime('%Y-%m-%d')\n",
    "print(f\"Period: {start} to {end}\")"
   ]
  },
  {
   "cell_type": "code",
   "execution_count": 4,
   "metadata": {},
   "outputs": [
    {
     "data": {
      "text/html": [
       "<div>\n",
       "<style scoped>\n",
       "    .dataframe tbody tr th:only-of-type {\n",
       "        vertical-align: middle;\n",
       "    }\n",
       "\n",
       "    .dataframe tbody tr th {\n",
       "        vertical-align: top;\n",
       "    }\n",
       "\n",
       "    .dataframe thead th {\n",
       "        text-align: right;\n",
       "    }\n",
       "</style>\n",
       "<table border=\"1\" class=\"dataframe\">\n",
       "  <thead>\n",
       "    <tr style=\"text-align: right;\">\n",
       "      <th>Symbols</th>\n",
       "      <th>PFE</th>\n",
       "      <th>MRNA</th>\n",
       "      <th>JNJ</th>\n",
       "      <th>AZN</th>\n",
       "      <th>NVAX</th>\n",
       "    </tr>\n",
       "    <tr>\n",
       "      <th>Date</th>\n",
       "      <th></th>\n",
       "      <th></th>\n",
       "      <th></th>\n",
       "      <th></th>\n",
       "      <th></th>\n",
       "    </tr>\n",
       "  </thead>\n",
       "  <tbody>\n",
       "    <tr>\n",
       "      <th>2020-08-04</th>\n",
       "      <td>38.389999</td>\n",
       "      <td>78.459999</td>\n",
       "      <td>147.220001</td>\n",
       "      <td>56.080002</td>\n",
       "      <td>157.169998</td>\n",
       "    </tr>\n",
       "    <tr>\n",
       "      <th>2020-08-05</th>\n",
       "      <td>38.450001</td>\n",
       "      <td>75.800003</td>\n",
       "      <td>148.399994</td>\n",
       "      <td>55.950001</td>\n",
       "      <td>173.490005</td>\n",
       "    </tr>\n",
       "    <tr>\n",
       "      <th>2020-08-06</th>\n",
       "      <td>38.270000</td>\n",
       "      <td>73.760002</td>\n",
       "      <td>147.550003</td>\n",
       "      <td>56.209999</td>\n",
       "      <td>167.500000</td>\n",
       "    </tr>\n",
       "    <tr>\n",
       "      <th>2020-08-07</th>\n",
       "      <td>38.450001</td>\n",
       "      <td>74.099998</td>\n",
       "      <td>148.600006</td>\n",
       "      <td>55.410000</td>\n",
       "      <td>170.289993</td>\n",
       "    </tr>\n",
       "    <tr>\n",
       "      <th>2020-08-10</th>\n",
       "      <td>38.389999</td>\n",
       "      <td>72.010002</td>\n",
       "      <td>148.029999</td>\n",
       "      <td>55.380001</td>\n",
       "      <td>178.509995</td>\n",
       "    </tr>\n",
       "  </tbody>\n",
       "</table>\n",
       "</div>"
      ],
      "text/plain": [
       "Symbols           PFE       MRNA         JNJ        AZN        NVAX\n",
       "Date                                                               \n",
       "2020-08-04  38.389999  78.459999  147.220001  56.080002  157.169998\n",
       "2020-08-05  38.450001  75.800003  148.399994  55.950001  173.490005\n",
       "2020-08-06  38.270000  73.760002  147.550003  56.209999  167.500000\n",
       "2020-08-07  38.450001  74.099998  148.600006  55.410000  170.289993\n",
       "2020-08-10  38.389999  72.010002  148.029999  55.380001  178.509995"
      ]
     },
     "execution_count": 4,
     "metadata": {},
     "output_type": "execute_result"
    }
   ],
   "source": [
    "prices = pdr.get_data_yahoo(covid_pharma_tickers, start=start, end=end)['Adj Close']\n",
    "prices.tail()"
   ]
  },
  {
   "cell_type": "code",
   "execution_count": 5,
   "metadata": {},
   "outputs": [
    {
     "data": {
      "text/plain": [
       "<matplotlib.axes._subplots.AxesSubplot at 0x7fa6f97fab70>"
      ]
     },
     "execution_count": 5,
     "metadata": {},
     "output_type": "execute_result"
    },
    {
     "data": {
      "image/png": "[encoded data removed]",
      "text/plain": [
       "<Figure size 432x288 with 1 Axes>"
      ]
     },
     "metadata": {
      "needs_background": "light"
     },
     "output_type": "display_data"
    }
   ],
   "source": [
    "prices.plot()"
   ]
  },
  {
   "cell_type": "code",
   "execution_count": 10,
   "metadata": {},
   "outputs": [],
   "source": [
    "data = prices['NVAX']"
   ]
  },
  {
   "cell_type": "code",
   "execution_count": 11,
   "metadata": {},
   "outputs": [
    {
     "data": {
      "text/plain": [
       "<matplotlib.axes._subplots.AxesSubplot at 0x7fa6f9c937b8>"
      ]
     },
     "execution_count": 11,
     "metadata": {},
     "output_type": "execute_result"
    },
    {
     "data": {
      "image/png": "[encoded data removed]",
      "text/plain": [
       "<Figure size 432x288 with 1 Axes>"
      ]
     },
     "metadata": {
      "needs_background": "light"
     },
     "output_type": "display_data"
    }
   ],
   "source": [
    "lag_plot(data)"
   ]
  },
  {
   "cell_type": "code",
   "execution_count": 12,
   "metadata": {},
   "outputs": [
    {
     "data": {
      "text/plain": [
       "<matplotlib.axes._subplots.AxesSubplot at 0x7fa6f9d6be80>"
      ]
     },
     "execution_count": 12,
     "metadata": {},
     "output_type": "execute_result"
    },
    {
     "data": {
      "image/png": "[encoded data removed]",
      "text/plain": [
       "<Figure size 432x288 with 1 Axes>"
      ]
     },
     "metadata": {
      "needs_background": "light"
     },
     "output_type": "display_data"
    }
   ],
   "source": [
    "autocorrelation_plot(data)"
   ]
  },
  {
   "cell_type": "code",
   "execution_count": 13,
   "metadata": {},
   "outputs": [
    {
     "data": {
      "image/png": "[encoded data removed]",
      "text/plain": [
       "<Figure size 432x288 with 1 Axes>"
      ]
     },
     "metadata": {
      "needs_background": "light"
     },
     "output_type": "display_data"
    }
   ],
   "source": [
    "_ = plot_acf(data)"
   ]
  },
  {
   "cell_type": "code",
   "execution_count": 22,
   "metadata": {},
   "outputs": [],
   "source": [
    "def prepare_sequence(series, n_steps):\n",
    "    X, y = list(), list()\n",
    "    for t, value in enumerate(series):\n",
    "        if t < len(series) - n_steps:\n",
    "            inp = series[t: t+n_steps]\n",
    "            out = series[t+n_steps]\n",
    "            X.append(inp)\n",
    "            y.append(out)\n",
    "    return np.array(X), np.array(y)"
   ]
  },
  {
   "cell_type": "code",
   "execution_count": 72,
   "metadata": {},
   "outputs": [],
   "source": [
    "N_STEPS = 5\n",
    "N_PREDICT = 1\n",
    "N_FEATURES = 1 # dimension of the features vector, 1 in this case because it's just a scalar value"
   ]
  },
  {
   "cell_type": "code",
   "execution_count": 73,
   "metadata": {},
   "outputs": [
    {
     "name": "stdout",
     "output_type": "stream",
     "text": [
      "Training size: 86\n",
      "Testing size: 22\n"
     ]
    }
   ],
   "source": [
    "X, y = prepare_sequence(data, N_STEPS)\n",
    "\n",
    "X_train, X_test = train_test_split(X, test_size=TRAIN_TEST_RATIO, shuffle=False)\n",
    "y_train, y_test = train_test_split(y, test_size=TRAIN_TEST_RATIO, shuffle=False)\n",
    "X_train = X_train.reshape((X_train.shape[0], X_train.shape[1], N_FEATURES))\n",
    "y_train = y_train.reshape((y_train.shape[0], N_PREDICT))\n",
    "X_test = X_test.reshape((X_test.shape[0], X_test.shape[1], N_FEATURES))\n",
    "y_test = y_test.reshape((y_test.shape[0], N_PREDICT))\n",
    "print(f\"Training size: {len(X_train)}\")\n",
    "print(f\"Testing size: {len(X_test)}\")"
   ]
  },
  {
   "cell_type": "markdown",
   "metadata": {},
   "source": [
    "### Vanilla LSTM"
   ]
  },
  {
   "cell_type": "code",
   "execution_count": 74,
   "metadata": {},
   "outputs": [],
   "source": [
    "def build_model(n_steps, n_features):\n",
    "    model = Sequential()\n",
    "    model.add(LSTM(50, activation='relu', input_shape=(n_steps, n_features)))\n",
    "    model.add(Dense(1))\n",
    "    model.compile(optimizer='adam', loss='mse')\n",
    "    return model"
   ]
  },
  {
   "cell_type": "code",
   "execution_count": 75,
   "metadata": {
    "scrolled": true
   },
   "outputs": [
    {
     "name": "stdout",
     "output_type": "stream",
     "text": [
      "Epoch 1/200\n",
      "3/3 [==============================] - 0s 2ms/step - loss: 1266.3096\n",
      "Epoch 2/200\n",
      "3/3 [==============================] - 0s 2ms/step - loss: 1124.7142\n",
      "Epoch 3/200\n",
      "3/3 [==============================] - 0s 3ms/step - loss: 924.5193\n",
      "Epoch 4/200\n",
      "3/3 [==============================] - 0s 3ms/step - loss: 704.1883\n",
      "Epoch 5/200\n",
      "3/3 [==============================] - 0s 3ms/step - loss: 511.8107\n",
      "Epoch 6/200\n",
      "3/3 [==============================] - 0s 3ms/step - loss: 327.9619\n",
      "Epoch 7/200\n",
      "3/3 [==============================] - 0s 3ms/step - loss: 196.8176\n",
      "Epoch 8/200\n",
      "3/3 [==============================] - 0s 2ms/step - loss: 101.2557\n",
      "Epoch 9/200\n",
      "3/3 [==============================] - 0s 2ms/step - loss: 46.9453\n",
      "Epoch 10/200\n",
      "3/3 [==============================] - 0s 2ms/step - loss: 49.8755\n",
      "Epoch 11/200\n",
      "3/3 [==============================] - 0s 2ms/step - loss: 68.8597\n",
      "Epoch 12/200\n",
      "3/3 [==============================] - 0s 2ms/step - loss: 54.1056\n",
      "Epoch 13/200\n",
      "3/3 [==============================] - 0s 2ms/step - loss: 40.5043\n",
      "Epoch 14/200\n",
      "3/3 [==============================] - 0s 2ms/step - loss: 36.8079\n",
      "Epoch 15/200\n",
      "3/3 [==============================] - 0s 2ms/step - loss: 35.9072\n",
      "Epoch 16/200\n",
      "3/3 [==============================] - 0s 3ms/step - loss: 36.8016\n",
      "Epoch 17/200\n",
      "3/3 [==============================] - 0s 3ms/step - loss: 36.7418\n",
      "Epoch 18/200\n",
      "3/3 [==============================] - 0s 2ms/step - loss: 35.7151\n",
      "Epoch 19/200\n",
      "3/3 [==============================] - 0s 2ms/step - loss: 34.3547\n",
      "Epoch 20/200\n",
      "3/3 [==============================] - 0s 2ms/step - loss: 33.5381\n",
      "Epoch 21/200\n",
      "3/3 [==============================] - 0s 2ms/step - loss: 33.2269\n",
      "Epoch 22/200\n",
      "3/3 [==============================] - 0s 2ms/step - loss: 32.8620\n",
      "Epoch 23/200\n",
      "3/3 [==============================] - 0s 2ms/step - loss: 32.4497\n",
      "Epoch 24/200\n",
      "3/3 [==============================] - 0s 2ms/step - loss: 31.8364\n",
      "Epoch 25/200\n",
      "3/3 [==============================] - 0s 2ms/step - loss: 31.2805\n",
      "Epoch 26/200\n",
      "3/3 [==============================] - 0s 2ms/step - loss: 30.3298\n",
      "Epoch 27/200\n",
      "3/3 [==============================] - 0s 2ms/step - loss: 29.1714\n",
      "Epoch 28/200\n",
      "3/3 [==============================] - 0s 2ms/step - loss: 27.8929\n",
      "Epoch 29/200\n",
      "3/3 [==============================] - 0s 2ms/step - loss: 27.2625\n",
      "Epoch 30/200\n",
      "3/3 [==============================] - 0s 2ms/step - loss: 26.1369\n",
      "Epoch 31/200\n",
      "3/3 [==============================] - 0s 2ms/step - loss: 25.5979\n",
      "Epoch 32/200\n",
      "3/3 [==============================] - 0s 2ms/step - loss: 25.2178\n",
      "Epoch 33/200\n",
      "3/3 [==============================] - 0s 2ms/step - loss: 23.8300\n",
      "Epoch 34/200\n",
      "3/3 [==============================] - 0s 2ms/step - loss: 22.7322\n",
      "Epoch 35/200\n",
      "3/3 [==============================] - 0s 3ms/step - loss: 23.0349\n",
      "Epoch 36/200\n",
      "3/3 [==============================] - 0s 3ms/step - loss: 20.8392\n",
      "Epoch 37/200\n",
      "3/3 [==============================] - 0s 2ms/step - loss: 22.0636\n",
      "Epoch 38/200\n",
      "3/3 [==============================] - 0s 2ms/step - loss: 20.6434\n",
      "Epoch 39/200\n",
      "3/3 [==============================] - 0s 2ms/step - loss: 20.6166\n",
      "Epoch 40/200\n",
      "3/3 [==============================] - 0s 2ms/step - loss: 21.6809\n",
      "Epoch 41/200\n",
      "3/3 [==============================] - 0s 2ms/step - loss: 20.5054\n",
      "Epoch 42/200\n",
      "3/3 [==============================] - 0s 2ms/step - loss: 21.4849\n",
      "Epoch 43/200\n",
      "3/3 [==============================] - 0s 3ms/step - loss: 20.3405\n",
      "Epoch 44/200\n",
      "3/3 [==============================] - 0s 2ms/step - loss: 19.4177\n",
      "Epoch 45/200\n",
      "3/3 [==============================] - 0s 3ms/step - loss: 20.3488\n",
      "Epoch 46/200\n",
      "3/3 [==============================] - 0s 2ms/step - loss: 18.5054\n",
      "Epoch 47/200\n",
      "3/3 [==============================] - 0s 3ms/step - loss: 19.2525\n",
      "Epoch 48/200\n",
      "3/3 [==============================] - 0s 2ms/step - loss: 18.1411\n",
      "Epoch 49/200\n",
      "3/3 [==============================] - 0s 2ms/step - loss: 18.0424\n",
      "Epoch 50/200\n",
      "3/3 [==============================] - 0s 3ms/step - loss: 17.9518\n",
      "Epoch 51/200\n",
      "3/3 [==============================] - 0s 2ms/step - loss: 17.6484\n",
      "Epoch 52/200\n",
      "3/3 [==============================] - 0s 2ms/step - loss: 17.9205\n",
      "Epoch 53/200\n",
      "3/3 [==============================] - 0s 2ms/step - loss: 17.5759\n",
      "Epoch 54/200\n",
      "3/3 [==============================] - 0s 2ms/step - loss: 17.6664\n",
      "Epoch 55/200\n",
      "3/3 [==============================] - 0s 2ms/step - loss: 17.1201\n",
      "Epoch 56/200\n",
      "3/3 [==============================] - 0s 2ms/step - loss: 16.7636\n",
      "Epoch 57/200\n",
      "3/3 [==============================] - 0s 2ms/step - loss: 16.6543\n",
      "Epoch 58/200\n",
      "3/3 [==============================] - 0s 2ms/step - loss: 16.8798\n",
      "Epoch 59/200\n",
      "3/3 [==============================] - 0s 2ms/step - loss: 16.7677\n",
      "Epoch 60/200\n",
      "3/3 [==============================] - 0s 2ms/step - loss: 16.4052\n",
      "Epoch 61/200\n",
      "3/3 [==============================] - 0s 2ms/step - loss: 16.4183\n",
      "Epoch 62/200\n",
      "3/3 [==============================] - 0s 2ms/step - loss: 16.3061\n",
      "Epoch 63/200\n",
      "3/3 [==============================] - 0s 2ms/step - loss: 16.3535\n",
      "Epoch 64/200\n",
      "3/3 [==============================] - 0s 2ms/step - loss: 16.0635\n",
      "Epoch 65/200\n",
      "3/3 [==============================] - 0s 2ms/step - loss: 17.2084\n",
      "Epoch 66/200\n",
      "3/3 [==============================] - 0s 2ms/step - loss: 15.7977\n",
      "Epoch 67/200\n",
      "3/3 [==============================] - 0s 2ms/step - loss: 16.2894\n",
      "Epoch 68/200\n",
      "3/3 [==============================] - 0s 2ms/step - loss: 16.4294\n",
      "Epoch 69/200\n",
      "3/3 [==============================] - 0s 2ms/step - loss: 16.7161\n",
      "Epoch 70/200\n",
      "3/3 [==============================] - 0s 2ms/step - loss: 16.7237\n",
      "Epoch 71/200\n",
      "3/3 [==============================] - 0s 2ms/step - loss: 16.6514\n",
      "Epoch 72/200\n",
      "3/3 [==============================] - 0s 2ms/step - loss: 16.6235\n",
      "Epoch 73/200\n",
      "3/3 [==============================] - 0s 2ms/step - loss: 15.9646\n",
      "Epoch 74/200\n",
      "3/3 [==============================] - 0s 2ms/step - loss: 15.6151\n",
      "Epoch 75/200\n",
      "3/3 [==============================] - 0s 2ms/step - loss: 16.2473\n",
      "Epoch 76/200\n",
      "3/3 [==============================] - 0s 2ms/step - loss: 15.2721\n",
      "Epoch 77/200\n",
      "3/3 [==============================] - 0s 2ms/step - loss: 15.6889\n",
      "Epoch 78/200\n",
      "3/3 [==============================] - 0s 2ms/step - loss: 15.1561\n",
      "Epoch 79/200\n",
      "3/3 [==============================] - 0s 2ms/step - loss: 15.2332\n",
      "Epoch 80/200\n",
      "3/3 [==============================] - 0s 2ms/step - loss: 14.8198\n",
      "Epoch 81/200\n",
      "3/3 [==============================] - 0s 2ms/step - loss: 15.2076\n",
      "Epoch 82/200\n",
      "3/3 [==============================] - 0s 2ms/step - loss: 14.7608\n",
      "Epoch 83/200\n",
      "3/3 [==============================] - 0s 2ms/step - loss: 15.1977\n",
      "Epoch 84/200\n",
      "3/3 [==============================] - 0s 2ms/step - loss: 15.0287\n",
      "Epoch 85/200\n",
      "3/3 [==============================] - 0s 2ms/step - loss: 15.5525\n",
      "Epoch 86/200\n",
      "3/3 [==============================] - 0s 2ms/step - loss: 16.2764\n",
      "Epoch 87/200\n",
      "3/3 [==============================] - 0s 2ms/step - loss: 15.3995\n",
      "Epoch 88/200\n",
      "3/3 [==============================] - 0s 2ms/step - loss: 15.8421\n",
      "Epoch 89/200\n",
      "3/3 [==============================] - 0s 2ms/step - loss: 15.0643\n",
      "Epoch 90/200\n",
      "3/3 [==============================] - 0s 2ms/step - loss: 14.7650\n",
      "Epoch 91/200\n",
      "3/3 [==============================] - 0s 3ms/step - loss: 15.0751\n",
      "Epoch 92/200\n",
      "3/3 [==============================] - 0s 2ms/step - loss: 15.1449\n",
      "Epoch 93/200\n",
      "3/3 [==============================] - 0s 3ms/step - loss: 15.0121\n",
      "Epoch 94/200\n",
      "3/3 [==============================] - 0s 2ms/step - loss: 15.3880\n",
      "Epoch 95/200\n",
      "3/3 [==============================] - 0s 2ms/step - loss: 15.5917\n",
      "Epoch 96/200\n",
      "3/3 [==============================] - 0s 2ms/step - loss: 14.7435\n",
      "Epoch 97/200\n",
      "3/3 [==============================] - 0s 2ms/step - loss: 14.7490\n",
      "Epoch 98/200\n",
      "3/3 [==============================] - 0s 2ms/step - loss: 14.4918\n",
      "Epoch 99/200\n",
      "3/3 [==============================] - 0s 2ms/step - loss: 14.6262\n",
      "Epoch 100/200\n",
      "3/3 [==============================] - 0s 2ms/step - loss: 14.7850\n",
      "Epoch 101/200\n",
      "3/3 [==============================] - 0s 2ms/step - loss: 13.9815\n",
      "Epoch 102/200\n",
      "3/3 [==============================] - 0s 2ms/step - loss: 14.3656\n",
      "Epoch 103/200\n",
      "3/3 [==============================] - 0s 2ms/step - loss: 14.4426\n",
      "Epoch 104/200\n",
      "3/3 [==============================] - 0s 2ms/step - loss: 14.1019\n",
      "Epoch 105/200\n",
      "3/3 [==============================] - 0s 2ms/step - loss: 13.8984\n",
      "Epoch 106/200\n",
      "3/3 [==============================] - 0s 2ms/step - loss: 13.9431\n",
      "Epoch 107/200\n",
      "3/3 [==============================] - 0s 2ms/step - loss: 13.8694\n",
      "Epoch 108/200\n",
      "3/3 [==============================] - 0s 2ms/step - loss: 13.8728\n",
      "Epoch 109/200\n",
      "3/3 [==============================] - 0s 2ms/step - loss: 13.7630\n",
      "Epoch 110/200\n",
      "3/3 [==============================] - 0s 2ms/step - loss: 13.8714\n",
      "Epoch 111/200\n",
      "3/3 [==============================] - 0s 2ms/step - loss: 13.7815\n",
      "Epoch 112/200\n",
      "3/3 [==============================] - 0s 3ms/step - loss: 13.5850\n",
      "Epoch 113/200\n",
      "3/3 [==============================] - 0s 3ms/step - loss: 14.2881\n",
      "Epoch 114/200\n",
      "3/3 [==============================] - 0s 2ms/step - loss: 13.6401\n",
      "Epoch 115/200\n",
      "3/3 [==============================] - 0s 2ms/step - loss: 13.6914\n",
      "Epoch 116/200\n",
      "3/3 [==============================] - 0s 2ms/step - loss: 13.5547\n",
      "Epoch 117/200\n",
      "3/3 [==============================] - 0s 2ms/step - loss: 13.8117\n",
      "Epoch 118/200\n",
      "3/3 [==============================] - 0s 2ms/step - loss: 13.5711\n",
      "Epoch 119/200\n",
      "3/3 [==============================] - 0s 2ms/step - loss: 13.6328\n",
      "Epoch 120/200\n",
      "3/3 [==============================] - 0s 2ms/step - loss: 13.6641\n",
      "Epoch 121/200\n",
      "3/3 [==============================] - 0s 2ms/step - loss: 13.3040\n",
      "Epoch 122/200\n",
      "3/3 [==============================] - 0s 3ms/step - loss: 13.6702\n",
      "Epoch 123/200\n",
      "3/3 [==============================] - 0s 3ms/step - loss: 13.5126\n",
      "Epoch 124/200\n",
      "3/3 [==============================] - 0s 2ms/step - loss: 13.4647\n",
      "Epoch 125/200\n",
      "3/3 [==============================] - 0s 2ms/step - loss: 12.9216\n",
      "Epoch 126/200\n",
      "3/3 [==============================] - 0s 3ms/step - loss: 13.0760\n",
      "Epoch 127/200\n",
      "3/3 [==============================] - 0s 3ms/step - loss: 13.1370\n",
      "Epoch 128/200\n",
      "3/3 [==============================] - 0s 2ms/step - loss: 13.2028\n",
      "Epoch 129/200\n",
      "3/3 [==============================] - 0s 2ms/step - loss: 12.8370\n",
      "Epoch 130/200\n",
      "3/3 [==============================] - 0s 3ms/step - loss: 12.7335\n",
      "Epoch 131/200\n",
      "3/3 [==============================] - 0s 2ms/step - loss: 13.1884\n",
      "Epoch 132/200\n",
      "3/3 [==============================] - 0s 2ms/step - loss: 13.2316\n",
      "Epoch 133/200\n",
      "3/3 [==============================] - 0s 3ms/step - loss: 12.9248\n",
      "Epoch 134/200\n",
      "3/3 [==============================] - 0s 2ms/step - loss: 12.9780\n",
      "Epoch 135/200\n",
      "3/3 [==============================] - 0s 2ms/step - loss: 12.6335\n",
      "Epoch 136/200\n",
      "3/3 [==============================] - 0s 2ms/step - loss: 12.4051\n",
      "Epoch 137/200\n",
      "3/3 [==============================] - 0s 2ms/step - loss: 12.7814\n",
      "Epoch 138/200\n",
      "3/3 [==============================] - 0s 2ms/step - loss: 12.4398\n",
      "Epoch 139/200\n",
      "3/3 [==============================] - 0s 2ms/step - loss: 12.5311\n",
      "Epoch 140/200\n",
      "3/3 [==============================] - 0s 2ms/step - loss: 13.0867\n",
      "Epoch 141/200\n",
      "3/3 [==============================] - 0s 2ms/step - loss: 12.9658\n",
      "Epoch 142/200\n",
      "3/3 [==============================] - 0s 3ms/step - loss: 13.1953\n",
      "Epoch 143/200\n",
      "3/3 [==============================] - 0s 3ms/step - loss: 13.0944\n",
      "Epoch 144/200\n",
      "3/3 [==============================] - 0s 2ms/step - loss: 12.6248\n",
      "Epoch 145/200\n",
      "3/3 [==============================] - 0s 2ms/step - loss: 12.3534\n",
      "Epoch 146/200\n",
      "3/3 [==============================] - 0s 3ms/step - loss: 12.3669\n",
      "Epoch 147/200\n",
      "3/3 [==============================] - 0s 3ms/step - loss: 12.3457\n",
      "Epoch 148/200\n",
      "3/3 [==============================] - 0s 3ms/step - loss: 12.4169\n",
      "Epoch 149/200\n",
      "3/3 [==============================] - 0s 2ms/step - loss: 12.2002\n",
      "Epoch 150/200\n",
      "3/3 [==============================] - 0s 2ms/step - loss: 12.5161\n",
      "Epoch 151/200\n",
      "3/3 [==============================] - 0s 3ms/step - loss: 12.5843\n",
      "Epoch 152/200\n",
      "3/3 [==============================] - 0s 2ms/step - loss: 12.8105\n",
      "Epoch 153/200\n",
      "3/3 [==============================] - 0s 2ms/step - loss: 12.3625\n",
      "Epoch 154/200\n",
      "3/3 [==============================] - 0s 2ms/step - loss: 12.8177\n",
      "Epoch 155/200\n",
      "3/3 [==============================] - 0s 2ms/step - loss: 12.0122\n",
      "Epoch 156/200\n",
      "3/3 [==============================] - 0s 2ms/step - loss: 13.9621\n",
      "Epoch 157/200\n",
      "3/3 [==============================] - 0s 2ms/step - loss: 12.4045\n",
      "Epoch 158/200\n",
      "3/3 [==============================] - 0s 2ms/step - loss: 13.4351\n",
      "Epoch 159/200\n",
      "3/3 [==============================] - 0s 2ms/step - loss: 12.8565\n",
      "Epoch 160/200\n",
      "3/3 [==============================] - 0s 2ms/step - loss: 12.5689\n",
      "Epoch 161/200\n",
      "3/3 [==============================] - 0s 2ms/step - loss: 12.7226\n",
      "Epoch 162/200\n",
      "3/3 [==============================] - 0s 2ms/step - loss: 12.2585\n",
      "Epoch 163/200\n",
      "3/3 [==============================] - 0s 2ms/step - loss: 12.8501\n",
      "Epoch 164/200\n",
      "3/3 [==============================] - 0s 2ms/step - loss: 12.5222\n",
      "Epoch 165/200\n",
      "3/3 [==============================] - 0s 2ms/step - loss: 12.4692\n",
      "Epoch 166/200\n",
      "3/3 [==============================] - 0s 2ms/step - loss: 12.3832\n",
      "Epoch 167/200\n",
      "3/3 [==============================] - 0s 2ms/step - loss: 12.2200\n",
      "Epoch 168/200\n",
      "3/3 [==============================] - 0s 2ms/step - loss: 12.6582\n",
      "Epoch 169/200\n",
      "3/3 [==============================] - 0s 2ms/step - loss: 12.3183\n",
      "Epoch 170/200\n",
      "3/3 [==============================] - 0s 2ms/step - loss: 12.3371\n",
      "Epoch 171/200\n",
      "3/3 [==============================] - 0s 2ms/step - loss: 12.7562\n",
      "Epoch 172/200\n",
      "3/3 [==============================] - 0s 3ms/step - loss: 11.8829\n",
      "Epoch 173/200\n",
      "3/3 [==============================] - 0s 2ms/step - loss: 12.5341\n",
      "Epoch 174/200\n",
      "3/3 [==============================] - 0s 3ms/step - loss: 11.9429\n",
      "Epoch 175/200\n",
      "3/3 [==============================] - 0s 3ms/step - loss: 12.2640\n",
      "Epoch 176/200\n",
      "3/3 [==============================] - 0s 3ms/step - loss: 11.8583\n",
      "Epoch 177/200\n",
      "3/3 [==============================] - 0s 2ms/step - loss: 12.2358\n",
      "Epoch 178/200\n",
      "3/3 [==============================] - 0s 2ms/step - loss: 11.7987\n",
      "Epoch 179/200\n",
      "3/3 [==============================] - 0s 3ms/step - loss: 12.0486\n",
      "Epoch 180/200\n",
      "3/3 [==============================] - 0s 3ms/step - loss: 12.9142\n",
      "Epoch 181/200\n",
      "3/3 [==============================] - 0s 3ms/step - loss: 11.5609\n",
      "Epoch 182/200\n",
      "3/3 [==============================] - 0s 2ms/step - loss: 12.9013\n",
      "Epoch 183/200\n",
      "3/3 [==============================] - 0s 3ms/step - loss: 12.4089\n",
      "Epoch 184/200\n",
      "3/3 [==============================] - 0s 2ms/step - loss: 12.9162\n",
      "Epoch 185/200\n",
      "3/3 [==============================] - 0s 3ms/step - loss: 12.3067\n",
      "Epoch 186/200\n",
      "3/3 [==============================] - 0s 3ms/step - loss: 12.3289\n",
      "Epoch 187/200\n",
      "3/3 [==============================] - 0s 3ms/step - loss: 12.0840\n",
      "Epoch 188/200\n",
      "3/3 [==============================] - 0s 3ms/step - loss: 12.1597\n",
      "Epoch 189/200\n",
      "3/3 [==============================] - 0s 3ms/step - loss: 12.2071\n",
      "Epoch 190/200\n",
      "3/3 [==============================] - 0s 3ms/step - loss: 11.7576\n",
      "Epoch 191/200\n",
      "3/3 [==============================] - 0s 3ms/step - loss: 12.3622\n",
      "Epoch 192/200\n",
      "3/3 [==============================] - 0s 3ms/step - loss: 11.7702\n",
      "Epoch 193/200\n",
      "3/3 [==============================] - 0s 3ms/step - loss: 11.8754\n",
      "Epoch 194/200\n",
      "3/3 [==============================] - 0s 3ms/step - loss: 12.1263\n",
      "Epoch 195/200\n",
      "3/3 [==============================] - 0s 3ms/step - loss: 12.6079\n",
      "Epoch 196/200\n",
      "3/3 [==============================] - 0s 3ms/step - loss: 12.2394\n",
      "Epoch 197/200\n",
      "3/3 [==============================] - 0s 3ms/step - loss: 12.2589\n",
      "Epoch 198/200\n",
      "3/3 [==============================] - 0s 2ms/step - loss: 11.5586\n",
      "Epoch 199/200\n",
      "3/3 [==============================] - 0s 3ms/step - loss: 12.3785\n",
      "Epoch 200/200\n",
      "3/3 [==============================] - 0s 3ms/step - loss: 11.7157\n"
     ]
    },
    {
     "data": {
      "text/plain": [
       "<tensorflow.python.keras.callbacks.History at 0x7fa6e8fa9828>"
      ]
     },
     "execution_count": 75,
     "metadata": {},
     "output_type": "execute_result"
    }
   ],
   "source": [
    "# usage\n",
    "model = build_model(N_STEPS, N_PREDICT)\n",
    "model.fit(X_train, y_train, epochs=200, verbose=1)"
   ]
  },
  {
   "cell_type": "code",
   "execution_count": 76,
   "metadata": {},
   "outputs": [
    {
     "name": "stdout",
     "output_type": "stream",
     "text": [
      "WARNING:tensorflow:5 out of the last 12 calls to <function Model.make_predict_function.<locals>.predict_function at 0x7fa6e91d8598> triggered tf.function retracing. Tracing is expensive and the excessive number of tracings could be due to (1) creating @tf.function repeatedly in a loop, (2) passing tensors with different shapes, (3) passing Python objects instead of tensors. For (1), please define your @tf.function outside of the loop. For (2), @tf.function has experimental_relax_shapes=True option that relaxes argument shapes that can avoid unnecessary retracing. For (3), please refer to https://www.tensorflow.org/tutorials/customization/performance#python_or_tensor_args and https://www.tensorflow.org/api_docs/python/tf/function for  more details.\n",
      "Test RMSE: 8.659538687811846\n"
     ]
    },
    {
     "data": {
      "image/png": "[encoded data removed]",
      "text/plain": [
       "<Figure size 432x288 with 1 Axes>"
      ]
     },
     "metadata": {
      "needs_background": "light"
     },
     "output_type": "display_data"
    }
   ],
   "source": [
    "# test\n",
    "predictions = model.predict(X_test)\n",
    "plt.plot(predictions, color='r')\n",
    "plt.plot(y_test)\n",
    "rmse = np.sqrt(mean_squared_error(predictions, y_test))\n",
    "print(f\"Test RMSE: {rmse}\")"
   ]
  },
  {
   "cell_type": "code",
   "execution_count": null,
   "metadata": {},
   "outputs": [],
   "source": []
  }
 ],
 "metadata": {
  "kernelspec": {
   "display_name": "Python 3",
   "language": "python",
   "name": "python3"
  },
  "language_info": {
   "codemirror_mode": {
    "name": "ipython",
    "version": 3
   },
   "file_extension": ".py",
   "mimetype": "text/x-python",
   "name": "python",
   "nbconvert_exporter": "python",
   "pygments_lexer": "ipython3",
   "version": "3.6.10"
  }
 },
 "nbformat": 4,
 "nbformat_minor": 4
}
