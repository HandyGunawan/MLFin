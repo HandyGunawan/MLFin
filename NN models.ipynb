{
 "cells": [
  {
   "cell_type": "code",
   "execution_count": 7,
   "metadata": {},
   "outputs": [],
   "source": [
    "import pandas as pd\n",
    "import pandas_datareader as pdr\n",
    "import yfinance as yf\n",
    "import statsmodels.tsa.stattools as ts\n",
    "import datetime\n",
    "from pandas.plotting import lag_plot, autocorrelation_plot\n",
    "from statsmodels.graphics.tsaplots import plot_acf\n",
    "import matplotlib.pyplot as plt\n",
    "from sklearn.metrics import mean_squared_error\n",
    "from sklearn.model_selection import train_test_split\n",
    "from statsmodels.tsa.ar_model import AR\n",
    "from statsmodels.tsa.arima_model import ARIMA\n",
    "import numpy as np\n",
    "\n",
    "yf.pdr_override()"
   ]
  },
  {
   "cell_type": "code",
   "execution_count": 28,
   "metadata": {},
   "outputs": [],
   "source": [
    "from keras.models import Sequential\n",
    "from keras.layers import LSTM\n",
    "from keras.layers import Dense"
   ]
  },
  {
   "cell_type": "code",
   "execution_count": 2,
   "metadata": {},
   "outputs": [],
   "source": [
    "TRAIN_TEST_RATIO = 0.2\n",
    "yf.pdr_override()"
   ]
  },
  {
   "cell_type": "code",
   "execution_count": 3,
   "metadata": {},
   "outputs": [
    {
     "name": "stdout",
     "output_type": "stream",
     "text": [
      "Period: 2020-03-01 to 2020-08-11\n"
     ]
    }
   ],
   "source": [
    "covid_pharma_tickers = ['PFE', 'MRNA', 'JNJ', 'AZN', 'NVAX']\n",
    "start = '2020-03-01'\n",
    "end = datetime.datetime.now().date().strftime('%Y-%m-%d')\n",
    "print(f\"Period: {start} to {end}\")"
   ]
  },
  {
   "cell_type": "code",
   "execution_count": 4,
   "metadata": {},
   "outputs": [
    {
     "data": {
      "text/html": [
       "<div>\n",
       "<style scoped>\n",
       "    .dataframe tbody tr th:only-of-type {\n",
       "        vertical-align: middle;\n",
       "    }\n",
       "\n",
       "    .dataframe tbody tr th {\n",
       "        vertical-align: top;\n",
       "    }\n",
       "\n",
       "    .dataframe thead th {\n",
       "        text-align: right;\n",
       "    }\n",
       "</style>\n",
       "<table border=\"1\" class=\"dataframe\">\n",
       "  <thead>\n",
       "    <tr style=\"text-align: right;\">\n",
       "      <th>Symbols</th>\n",
       "      <th>PFE</th>\n",
       "      <th>MRNA</th>\n",
       "      <th>JNJ</th>\n",
       "      <th>AZN</th>\n",
       "      <th>NVAX</th>\n",
       "    </tr>\n",
       "    <tr>\n",
       "      <th>Date</th>\n",
       "      <th></th>\n",
       "      <th></th>\n",
       "      <th></th>\n",
       "      <th></th>\n",
       "      <th></th>\n",
       "    </tr>\n",
       "  </thead>\n",
       "  <tbody>\n",
       "    <tr>\n",
       "      <th>2020-08-04</th>\n",
       "      <td>38.389999</td>\n",
       "      <td>78.459999</td>\n",
       "      <td>147.220001</td>\n",
       "      <td>56.080002</td>\n",
       "      <td>157.169998</td>\n",
       "    </tr>\n",
       "    <tr>\n",
       "      <th>2020-08-05</th>\n",
       "      <td>38.450001</td>\n",
       "      <td>75.800003</td>\n",
       "      <td>148.399994</td>\n",
       "      <td>55.950001</td>\n",
       "      <td>173.490005</td>\n",
       "    </tr>\n",
       "    <tr>\n",
       "      <th>2020-08-06</th>\n",
       "      <td>38.270000</td>\n",
       "      <td>73.760002</td>\n",
       "      <td>147.550003</td>\n",
       "      <td>56.209999</td>\n",
       "      <td>167.500000</td>\n",
       "    </tr>\n",
       "    <tr>\n",
       "      <th>2020-08-07</th>\n",
       "      <td>38.450001</td>\n",
       "      <td>74.099998</td>\n",
       "      <td>148.600006</td>\n",
       "      <td>55.410000</td>\n",
       "      <td>170.289993</td>\n",
       "    </tr>\n",
       "    <tr>\n",
       "      <th>2020-08-10</th>\n",
       "      <td>38.389999</td>\n",
       "      <td>72.010002</td>\n",
       "      <td>148.029999</td>\n",
       "      <td>55.380001</td>\n",
       "      <td>178.509995</td>\n",
       "    </tr>\n",
       "  </tbody>\n",
       "</table>\n",
       "</div>"
      ],
      "text/plain": [
       "Symbols           PFE       MRNA         JNJ        AZN        NVAX\n",
       "Date                                                               \n",
       "2020-08-04  38.389999  78.459999  147.220001  56.080002  157.169998\n",
       "2020-08-05  38.450001  75.800003  148.399994  55.950001  173.490005\n",
       "2020-08-06  38.270000  73.760002  147.550003  56.209999  167.500000\n",
       "2020-08-07  38.450001  74.099998  148.600006  55.410000  170.289993\n",
       "2020-08-10  38.389999  72.010002  148.029999  55.380001  178.509995"
      ]
     },
     "execution_count": 4,
     "metadata": {},
     "output_type": "execute_result"
    }
   ],
   "source": [
    "prices = pdr.get_data_yahoo(covid_pharma_tickers, start=start, end=end)['Adj Close']\n",
    "prices.tail()"
   ]
  },
  {
   "cell_type": "code",
   "execution_count": 5,
   "metadata": {},
   "outputs": [
    {
     "data": {
      "text/plain": [
       "<matplotlib.axes._subplots.AxesSubplot at 0x7fa6f97fab70>"
      ]
     },
     "execution_count": 5,
     "metadata": {},
     "output_type": "execute_result"
    },
    {
     "data": {
      "image/png": "[encoded data removed]",
      "text/plain": [
       "<Figure size 432x288 with 1 Axes>"
      ]
     },
     "metadata": {
      "needs_background": "light"
     },
     "output_type": "display_data"
    }
   ],
   "source": [
    "prices.plot()"
   ]
  },
  {
   "cell_type": "code",
   "execution_count": 10,
   "metadata": {},
   "outputs": [],
   "source": [
    "data = prices['NVAX']"
   ]
  },
  {
   "cell_type": "code",
   "execution_count": 11,
   "metadata": {},
   "outputs": [
    {
     "data": {
      "text/plain": [
       "<matplotlib.axes._subplots.AxesSubplot at 0x7fa6f9c937b8>"
      ]
     },
     "execution_count": 11,
     "metadata": {},
     "output_type": "execute_result"
    },
    {
     "data": {
      "image/png": "[encoded data removed]",
      "text/plain": [
       "<Figure size 432x288 with 1 Axes>"
      ]
     },
     "metadata": {
      "needs_background": "light"
     },
     "output_type": "display_data"
    }
   ],
   "source": [
    "lag_plot(data)"
   ]
  },
  {
   "cell_type": "code",
   "execution_count": 12,
   "metadata": {},
   "outputs": [
    {
     "data": {
      "text/plain": [
       "<matplotlib.axes._subplots.AxesSubplot at 0x7fa6f9d6be80>"
      ]
     },
     "execution_count": 12,
     "metadata": {},
     "output_type": "execute_result"
    },
    {
     "data": {
      "image/png": "[encoded data removed]",
      "text/plain": [
       "<Figure size 432x288 with 1 Axes>"
      ]
     },
     "metadata": {
      "needs_background": "light"
     },
     "output_type": "display_data"
    }
   ],
   "source": [
    "autocorrelation_plot(data)"
   ]
  },
  {
   "cell_type": "code",
   "execution_count": 13,
   "metadata": {},
   "outputs": [
    {
     "data": {
      "image/png": "[encoded data removed]",
      "text/plain": [
       "<Figure size 432x288 with 1 Axes>"
      ]
     },
     "metadata": {
      "needs_background": "light"
     },
     "output_type": "display_data"
    }
   ],
   "source": [
    "_ = plot_acf(data)"
   ]
  },
  {
   "cell_type": "code",
   "execution_count": 22,
   "metadata": {},
   "outputs": [],
   "source": [
    "def prepare_sequence(series, n_steps):\n",
    "    X, y = list(), list()\n",
    "    for t, value in enumerate(series):\n",
    "        if t < len(series) - n_steps:\n",
    "            inp = series[t: t+n_steps]\n",
    "            out = series[t+n_steps]\n",
    "            X.append(inp)\n",
    "            y.append(out)\n",
    "    return np.array(X), np.array(y)"
   ]
  },
  {
   "cell_type": "code",
   "execution_count": 72,
   "metadata": {},
   "outputs": [],
   "source": [
    "N_STEPS = 5\n",
    "N_PREDICT = 1\n",
    "N_FEATURES = 1 # dimension of the features vector, 1 in this case because it's just a scalar value"
   ]
  },
  {
   "cell_type": "code",
   "execution_count": 73,
   "metadata": {},
   "outputs": [
    {
     "name": "stdout",
     "output_type": "stream",
     "text": [
      "Training size: 86\n",
      "Testing size: 22\n"
     ]
    }
   ],
   "source": [
    "X, y = prepare_sequence(data, N_STEPS)\n",
    "\n",
    "X_train, X_test = train_test_split(X, test_size=TRAIN_TEST_RATIO, shuffle=False)\n",
    "y_train, y_test = train_test_split(y, test_size=TRAIN_TEST_RATIO, shuffle=False)\n",
    "X_train = X_train.reshape((X_train.shape[0], X_train.shape[1], N_FEATURES))\n",
    "y_train = y_train.reshape((y_train.shape[0], N_PREDICT))\n",
    "X_test = X_test.reshape((X_test.shape[0], X_test.shape[1], N_FEATURES))\n",
    "y_test = y_test.reshape((y_test.shape[0], N_PREDICT))\n",
    "print(f\"Training size: {len(X_train)}\")\n",
    "print(f\"Testing size: {len(X_test)}\")"
   ]
  },
  {
   "cell_type": "markdown",
   "metadata": {},
   "source": [
    "### Vanilla LSTM"
   ]
  },
  {
   "cell_type": "code",
   "execution_count": 74,
   "metadata": {},
   "outputs": [],
   "source": [
    "def build_model(n_steps, n_features):\n",
    "    model = Sequential()\n",
    "    model.add(LSTM(50, activation='relu', input_shape=(n_steps, n_features)))\n",
    "    model.add(Dense(1))\n",
    "    model.compile(optimizer='adam', loss='mse')\n",
    "    return model"
   ]
  },
  {
   "cell_type": "code",
   "execution_count": 83,
   "metadata": {
    "scrolled": true
   },
   "outputs": [
    {
     "name": "stdout",
     "output_type": "stream",
     "text": [
      "Epoch 1/200\n",
      "3/3 [==============================] - 0s 2ms/step - loss: 1843.3292\n",
      "Epoch 2/200\n",
      "3/3 [==============================] - 0s 3ms/step - loss: 1753.5161\n",
      "Epoch 3/200\n",
      "3/3 [==============================] - 0s 6ms/step - loss: 1651.9873\n",
      "Epoch 4/200\n",
      "3/3 [==============================] - 0s 5ms/step - loss: 1528.0343\n",
      "Epoch 5/200\n",
      "3/3 [==============================] - 0s 4ms/step - loss: 1350.9473\n",
      "Epoch 6/200\n",
      "3/3 [==============================] - 0s 3ms/step - loss: 1116.3096\n",
      "Epoch 7/200\n",
      "3/3 [==============================] - 0s 4ms/step - loss: 875.3687\n",
      "Epoch 8/200\n",
      "3/3 [==============================] - 0s 3ms/step - loss: 623.4335\n",
      "Epoch 9/200\n",
      "3/3 [==============================] - 0s 3ms/step - loss: 279.0666\n",
      "Epoch 10/200\n",
      "3/3 [==============================] - 0s 3ms/step - loss: 77.9699\n",
      "Epoch 11/200\n",
      "3/3 [==============================] - 0s 3ms/step - loss: 98.5635\n",
      "Epoch 12/200\n",
      "3/3 [==============================] - 0s 2ms/step - loss: 127.9501\n",
      "Epoch 13/200\n",
      "3/3 [==============================] - 0s 3ms/step - loss: 81.8819\n",
      "Epoch 14/200\n",
      "3/3 [==============================] - 0s 3ms/step - loss: 55.4632\n",
      "Epoch 15/200\n",
      "3/3 [==============================] - 0s 2ms/step - loss: 43.3451\n",
      "Epoch 16/200\n",
      "3/3 [==============================] - 0s 3ms/step - loss: 44.7514\n",
      "Epoch 17/200\n",
      "3/3 [==============================] - 0s 3ms/step - loss: 47.1314\n",
      "Epoch 18/200\n",
      "3/3 [==============================] - 0s 2ms/step - loss: 46.3898\n",
      "Epoch 19/200\n",
      "3/3 [==============================] - 0s 2ms/step - loss: 42.7475\n",
      "Epoch 20/200\n",
      "3/3 [==============================] - 0s 2ms/step - loss: 38.0789\n",
      "Epoch 21/200\n",
      "3/3 [==============================] - 0s 2ms/step - loss: 35.5682\n",
      "Epoch 22/200\n",
      "3/3 [==============================] - 0s 2ms/step - loss: 36.1969\n",
      "Epoch 23/200\n",
      "3/3 [==============================] - 0s 2ms/step - loss: 36.4638\n",
      "Epoch 24/200\n",
      "3/3 [==============================] - 0s 2ms/step - loss: 36.1530\n",
      "Epoch 25/200\n",
      "3/3 [==============================] - 0s 2ms/step - loss: 35.5141\n",
      "Epoch 26/200\n",
      "3/3 [==============================] - 0s 2ms/step - loss: 34.7155\n",
      "Epoch 27/200\n",
      "3/3 [==============================] - 0s 3ms/step - loss: 34.2986\n",
      "Epoch 28/200\n",
      "3/3 [==============================] - 0s 2ms/step - loss: 34.1580\n",
      "Epoch 29/200\n",
      "3/3 [==============================] - 0s 2ms/step - loss: 34.0611\n",
      "Epoch 30/200\n",
      "3/3 [==============================] - 0s 3ms/step - loss: 33.7997\n",
      "Epoch 31/200\n",
      "3/3 [==============================] - 0s 2ms/step - loss: 33.6442\n",
      "Epoch 32/200\n",
      "3/3 [==============================] - 0s 3ms/step - loss: 33.1971\n",
      "Epoch 33/200\n",
      "3/3 [==============================] - 0s 2ms/step - loss: 33.0426\n",
      "Epoch 34/200\n",
      "3/3 [==============================] - 0s 2ms/step - loss: 32.6398\n",
      "Epoch 35/200\n",
      "3/3 [==============================] - 0s 2ms/step - loss: 32.3637\n",
      "Epoch 36/200\n",
      "3/3 [==============================] - 0s 2ms/step - loss: 32.2274\n",
      "Epoch 37/200\n",
      "3/3 [==============================] - 0s 2ms/step - loss: 32.0045\n",
      "Epoch 38/200\n",
      "3/3 [==============================] - 0s 2ms/step - loss: 31.8507\n",
      "Epoch 39/200\n",
      "3/3 [==============================] - 0s 2ms/step - loss: 31.5921\n",
      "Epoch 40/200\n",
      "3/3 [==============================] - 0s 2ms/step - loss: 31.4456\n",
      "Epoch 41/200\n",
      "3/3 [==============================] - 0s 2ms/step - loss: 31.3037\n",
      "Epoch 42/200\n",
      "3/3 [==============================] - 0s 2ms/step - loss: 31.2713\n",
      "Epoch 43/200\n",
      "3/3 [==============================] - 0s 2ms/step - loss: 30.8044\n",
      "Epoch 44/200\n",
      "3/3 [==============================] - 0s 2ms/step - loss: 30.4331\n",
      "Epoch 45/200\n",
      "3/3 [==============================] - 0s 3ms/step - loss: 30.0969\n",
      "Epoch 46/200\n",
      "3/3 [==============================] - 0s 2ms/step - loss: 29.5577\n",
      "Epoch 47/200\n",
      "3/3 [==============================] - 0s 2ms/step - loss: 28.7906\n",
      "Epoch 48/200\n",
      "3/3 [==============================] - 0s 2ms/step - loss: 27.9033\n",
      "Epoch 49/200\n",
      "3/3 [==============================] - 0s 2ms/step - loss: 27.0079\n",
      "Epoch 50/200\n",
      "3/3 [==============================] - 0s 2ms/step - loss: 26.6436\n",
      "Epoch 51/200\n",
      "3/3 [==============================] - 0s 2ms/step - loss: 25.3349\n",
      "Epoch 52/200\n",
      "3/3 [==============================] - 0s 2ms/step - loss: 26.0554\n",
      "Epoch 53/200\n",
      "3/3 [==============================] - 0s 2ms/step - loss: 25.7915\n",
      "Epoch 54/200\n",
      "3/3 [==============================] - 0s 2ms/step - loss: 24.3006\n",
      "Epoch 55/200\n",
      "3/3 [==============================] - 0s 2ms/step - loss: 25.0093\n",
      "Epoch 56/200\n",
      "3/3 [==============================] - 0s 2ms/step - loss: 24.8639\n",
      "Epoch 57/200\n",
      "3/3 [==============================] - 0s 2ms/step - loss: 24.0328\n",
      "Epoch 58/200\n",
      "3/3 [==============================] - 0s 2ms/step - loss: 23.1595\n",
      "Epoch 59/200\n",
      "3/3 [==============================] - 0s 2ms/step - loss: 23.0943\n",
      "Epoch 60/200\n",
      "3/3 [==============================] - 0s 2ms/step - loss: 22.5416\n",
      "Epoch 61/200\n",
      "3/3 [==============================] - 0s 2ms/step - loss: 22.3746\n",
      "Epoch 62/200\n",
      "3/3 [==============================] - 0s 2ms/step - loss: 22.4347\n",
      "Epoch 63/200\n",
      "3/3 [==============================] - 0s 2ms/step - loss: 22.3593\n",
      "Epoch 64/200\n",
      "3/3 [==============================] - 0s 2ms/step - loss: 21.9213\n",
      "Epoch 65/200\n",
      "3/3 [==============================] - 0s 2ms/step - loss: 22.1442\n",
      "Epoch 66/200\n",
      "3/3 [==============================] - 0s 2ms/step - loss: 21.7561\n",
      "Epoch 67/200\n",
      "3/3 [==============================] - 0s 2ms/step - loss: 21.7872\n",
      "Epoch 68/200\n",
      "3/3 [==============================] - 0s 2ms/step - loss: 20.8732\n",
      "Epoch 69/200\n",
      "3/3 [==============================] - 0s 2ms/step - loss: 20.4685\n",
      "Epoch 70/200\n",
      "3/3 [==============================] - 0s 2ms/step - loss: 20.1164\n",
      "Epoch 71/200\n",
      "3/3 [==============================] - 0s 2ms/step - loss: 19.7646\n",
      "Epoch 72/200\n",
      "3/3 [==============================] - 0s 2ms/step - loss: 19.6724\n",
      "Epoch 73/200\n",
      "3/3 [==============================] - 0s 2ms/step - loss: 19.8973\n",
      "Epoch 74/200\n",
      "3/3 [==============================] - 0s 2ms/step - loss: 19.2615\n",
      "Epoch 75/200\n",
      "3/3 [==============================] - 0s 2ms/step - loss: 18.9971\n",
      "Epoch 76/200\n",
      "3/3 [==============================] - 0s 2ms/step - loss: 19.5146\n",
      "Epoch 77/200\n",
      "3/3 [==============================] - 0s 3ms/step - loss: 18.0816\n",
      "Epoch 78/200\n",
      "3/3 [==============================] - 0s 2ms/step - loss: 18.7369\n",
      "Epoch 79/200\n",
      "3/3 [==============================] - 0s 2ms/step - loss: 18.0134\n",
      "Epoch 80/200\n",
      "3/3 [==============================] - 0s 2ms/step - loss: 17.7120\n",
      "Epoch 81/200\n",
      "3/3 [==============================] - 0s 2ms/step - loss: 17.1562\n",
      "Epoch 82/200\n",
      "3/3 [==============================] - 0s 2ms/step - loss: 17.2351\n",
      "Epoch 83/200\n",
      "3/3 [==============================] - 0s 3ms/step - loss: 17.5592\n",
      "Epoch 84/200\n",
      "3/3 [==============================] - 0s 2ms/step - loss: 17.4299\n",
      "Epoch 85/200\n",
      "3/3 [==============================] - 0s 2ms/step - loss: 16.7165\n",
      "Epoch 86/200\n",
      "3/3 [==============================] - 0s 2ms/step - loss: 17.2121\n",
      "Epoch 87/200\n",
      "3/3 [==============================] - 0s 2ms/step - loss: 16.5893\n",
      "Epoch 88/200\n",
      "3/3 [==============================] - 0s 3ms/step - loss: 16.5672\n",
      "Epoch 89/200\n",
      "3/3 [==============================] - 0s 2ms/step - loss: 16.5896\n",
      "Epoch 90/200\n",
      "3/3 [==============================] - 0s 3ms/step - loss: 16.8763\n",
      "Epoch 91/200\n",
      "3/3 [==============================] - 0s 3ms/step - loss: 16.3219\n",
      "Epoch 92/200\n",
      "3/3 [==============================] - 0s 3ms/step - loss: 16.6087\n",
      "Epoch 93/200\n",
      "3/3 [==============================] - 0s 2ms/step - loss: 16.3258\n",
      "Epoch 94/200\n",
      "3/3 [==============================] - 0s 2ms/step - loss: 17.0135\n",
      "Epoch 95/200\n",
      "3/3 [==============================] - 0s 2ms/step - loss: 17.8274\n",
      "Epoch 96/200\n",
      "3/3 [==============================] - 0s 3ms/step - loss: 15.8198\n",
      "Epoch 97/200\n",
      "3/3 [==============================] - 0s 3ms/step - loss: 17.7351\n",
      "Epoch 98/200\n",
      "3/3 [==============================] - 0s 2ms/step - loss: 16.4975\n",
      "Epoch 99/200\n",
      "3/3 [==============================] - 0s 2ms/step - loss: 16.2698\n",
      "Epoch 100/200\n",
      "3/3 [==============================] - 0s 3ms/step - loss: 16.6064\n",
      "Epoch 101/200\n",
      "3/3 [==============================] - 0s 3ms/step - loss: 15.8685\n",
      "Epoch 102/200\n",
      "3/3 [==============================] - 0s 2ms/step - loss: 16.1594\n",
      "Epoch 103/200\n",
      "3/3 [==============================] - 0s 2ms/step - loss: 16.1470\n",
      "Epoch 104/200\n",
      "3/3 [==============================] - 0s 2ms/step - loss: 16.4409\n",
      "Epoch 105/200\n",
      "3/3 [==============================] - 0s 2ms/step - loss: 16.2410\n",
      "Epoch 106/200\n",
      "3/3 [==============================] - 0s 3ms/step - loss: 16.2500\n",
      "Epoch 107/200\n",
      "3/3 [==============================] - 0s 3ms/step - loss: 16.7642\n",
      "Epoch 108/200\n",
      "3/3 [==============================] - 0s 3ms/step - loss: 15.8569\n",
      "Epoch 109/200\n",
      "3/3 [==============================] - 0s 3ms/step - loss: 15.8172\n",
      "Epoch 110/200\n",
      "3/3 [==============================] - 0s 3ms/step - loss: 15.6691\n",
      "Epoch 111/200\n",
      "3/3 [==============================] - 0s 3ms/step - loss: 15.8208\n",
      "Epoch 112/200\n",
      "3/3 [==============================] - 0s 3ms/step - loss: 15.5750\n",
      "Epoch 113/200\n",
      "3/3 [==============================] - 0s 2ms/step - loss: 15.5317\n",
      "Epoch 114/200\n",
      "3/3 [==============================] - 0s 2ms/step - loss: 15.7841\n",
      "Epoch 115/200\n",
      "3/3 [==============================] - 0s 2ms/step - loss: 16.4400\n",
      "Epoch 116/200\n",
      "3/3 [==============================] - 0s 2ms/step - loss: 16.0475\n",
      "Epoch 117/200\n",
      "3/3 [==============================] - 0s 2ms/step - loss: 16.0098\n",
      "Epoch 118/200\n",
      "3/3 [==============================] - 0s 3ms/step - loss: 15.6959\n",
      "Epoch 119/200\n",
      "3/3 [==============================] - 0s 3ms/step - loss: 15.6835\n",
      "Epoch 120/200\n",
      "3/3 [==============================] - 0s 2ms/step - loss: 15.3282\n",
      "Epoch 121/200\n",
      "3/3 [==============================] - 0s 3ms/step - loss: 15.7884\n",
      "Epoch 122/200\n",
      "3/3 [==============================] - 0s 2ms/step - loss: 15.6222\n",
      "Epoch 123/200\n",
      "3/3 [==============================] - 0s 2ms/step - loss: 15.5806\n",
      "Epoch 124/200\n",
      "3/3 [==============================] - 0s 2ms/step - loss: 15.6839\n",
      "Epoch 125/200\n",
      "3/3 [==============================] - 0s 2ms/step - loss: 15.5819\n",
      "Epoch 126/200\n",
      "3/3 [==============================] - 0s 2ms/step - loss: 15.3607\n",
      "Epoch 127/200\n",
      "3/3 [==============================] - 0s 3ms/step - loss: 15.6243\n",
      "Epoch 128/200\n",
      "3/3 [==============================] - 0s 2ms/step - loss: 15.3803\n",
      "Epoch 129/200\n",
      "3/3 [==============================] - 0s 2ms/step - loss: 15.1667\n",
      "Epoch 130/200\n",
      "3/3 [==============================] - 0s 2ms/step - loss: 15.5944\n",
      "Epoch 131/200\n",
      "3/3 [==============================] - 0s 2ms/step - loss: 15.2084\n",
      "Epoch 132/200\n",
      "3/3 [==============================] - 0s 2ms/step - loss: 15.2784\n",
      "Epoch 133/200\n",
      "3/3 [==============================] - 0s 2ms/step - loss: 15.5062\n",
      "Epoch 134/200\n",
      "3/3 [==============================] - 0s 2ms/step - loss: 14.9893\n",
      "Epoch 135/200\n",
      "3/3 [==============================] - 0s 2ms/step - loss: 15.1974\n",
      "Epoch 136/200\n",
      "3/3 [==============================] - 0s 2ms/step - loss: 15.0066\n",
      "Epoch 137/200\n",
      "3/3 [==============================] - 0s 2ms/step - loss: 15.2218\n",
      "Epoch 138/200\n",
      "3/3 [==============================] - 0s 2ms/step - loss: 15.6224\n",
      "Epoch 139/200\n",
      "3/3 [==============================] - 0s 3ms/step - loss: 15.6816\n",
      "Epoch 140/200\n",
      "3/3 [==============================] - 0s 2ms/step - loss: 15.0032\n",
      "Epoch 141/200\n",
      "3/3 [==============================] - 0s 2ms/step - loss: 14.8758\n",
      "Epoch 142/200\n",
      "3/3 [==============================] - 0s 3ms/step - loss: 15.4731\n",
      "Epoch 143/200\n",
      "3/3 [==============================] - 0s 2ms/step - loss: 14.8367\n",
      "Epoch 144/200\n",
      "3/3 [==============================] - 0s 2ms/step - loss: 16.0774\n",
      "Epoch 145/200\n",
      "3/3 [==============================] - 0s 2ms/step - loss: 14.8788\n",
      "Epoch 146/200\n",
      "3/3 [==============================] - 0s 2ms/step - loss: 15.3977\n",
      "Epoch 147/200\n",
      "3/3 [==============================] - 0s 3ms/step - loss: 14.7637\n",
      "Epoch 148/200\n",
      "3/3 [==============================] - 0s 3ms/step - loss: 15.3012\n",
      "Epoch 149/200\n",
      "3/3 [==============================] - 0s 2ms/step - loss: 14.5950\n",
      "Epoch 150/200\n",
      "3/3 [==============================] - 0s 2ms/step - loss: 14.7855\n",
      "Epoch 151/200\n",
      "3/3 [==============================] - 0s 2ms/step - loss: 14.4100\n",
      "Epoch 152/200\n",
      "3/3 [==============================] - 0s 3ms/step - loss: 14.6528\n",
      "Epoch 153/200\n",
      "3/3 [==============================] - 0s 3ms/step - loss: 14.5249\n",
      "Epoch 154/200\n",
      "3/3 [==============================] - 0s 3ms/step - loss: 14.2331\n",
      "Epoch 155/200\n",
      "3/3 [==============================] - 0s 2ms/step - loss: 14.6270\n",
      "Epoch 156/200\n",
      "3/3 [==============================] - 0s 2ms/step - loss: 14.1510\n",
      "Epoch 157/200\n",
      "3/3 [==============================] - 0s 3ms/step - loss: 14.4081\n",
      "Epoch 158/200\n",
      "3/3 [==============================] - 0s 3ms/step - loss: 14.2145\n",
      "Epoch 159/200\n",
      "3/3 [==============================] - 0s 3ms/step - loss: 14.2331\n",
      "Epoch 160/200\n",
      "3/3 [==============================] - 0s 2ms/step - loss: 13.9732\n",
      "Epoch 161/200\n",
      "3/3 [==============================] - 0s 2ms/step - loss: 14.0194\n",
      "Epoch 162/200\n",
      "3/3 [==============================] - 0s 3ms/step - loss: 13.9137\n",
      "Epoch 163/200\n",
      "3/3 [==============================] - 0s 2ms/step - loss: 13.9700\n",
      "Epoch 164/200\n",
      "3/3 [==============================] - 0s 3ms/step - loss: 14.0429\n",
      "Epoch 165/200\n",
      "3/3 [==============================] - 0s 2ms/step - loss: 13.9616\n",
      "Epoch 166/200\n",
      "3/3 [==============================] - 0s 3ms/step - loss: 14.0211\n",
      "Epoch 167/200\n",
      "3/3 [==============================] - 0s 2ms/step - loss: 13.9534\n",
      "Epoch 168/200\n",
      "3/3 [==============================] - 0s 2ms/step - loss: 14.3738\n",
      "Epoch 169/200\n",
      "3/3 [==============================] - 0s 2ms/step - loss: 13.7082\n",
      "Epoch 170/200\n",
      "3/3 [==============================] - 0s 2ms/step - loss: 14.1749\n",
      "Epoch 171/200\n",
      "3/3 [==============================] - 0s 2ms/step - loss: 14.9570\n",
      "Epoch 172/200\n",
      "3/3 [==============================] - 0s 2ms/step - loss: 14.4411\n",
      "Epoch 173/200\n",
      "3/3 [==============================] - 0s 2ms/step - loss: 14.0810\n",
      "Epoch 174/200\n",
      "3/3 [==============================] - 0s 2ms/step - loss: 13.6522\n",
      "Epoch 175/200\n",
      "3/3 [==============================] - 0s 2ms/step - loss: 13.8513\n",
      "Epoch 176/200\n",
      "3/3 [==============================] - 0s 2ms/step - loss: 13.2126\n",
      "Epoch 177/200\n",
      "3/3 [==============================] - 0s 2ms/step - loss: 14.1820\n",
      "Epoch 178/200\n",
      "3/3 [==============================] - 0s 2ms/step - loss: 13.4797\n",
      "Epoch 179/200\n",
      "3/3 [==============================] - 0s 3ms/step - loss: 14.6068\n",
      "Epoch 180/200\n",
      "3/3 [==============================] - 0s 2ms/step - loss: 13.4994\n",
      "Epoch 181/200\n",
      "3/3 [==============================] - 0s 2ms/step - loss: 14.7225\n",
      "Epoch 182/200\n",
      "3/3 [==============================] - 0s 2ms/step - loss: 13.9790\n",
      "Epoch 183/200\n",
      "3/3 [==============================] - 0s 2ms/step - loss: 14.4089\n",
      "Epoch 184/200\n",
      "3/3 [==============================] - 0s 3ms/step - loss: 13.0574\n",
      "Epoch 185/200\n",
      "3/3 [==============================] - 0s 3ms/step - loss: 13.8187\n",
      "Epoch 186/200\n",
      "3/3 [==============================] - 0s 3ms/step - loss: 12.9761\n",
      "Epoch 187/200\n",
      "3/3 [==============================] - 0s 2ms/step - loss: 13.8903\n",
      "Epoch 188/200\n",
      "3/3 [==============================] - 0s 3ms/step - loss: 13.0185\n",
      "Epoch 189/200\n",
      "3/3 [==============================] - 0s 3ms/step - loss: 13.7872\n",
      "Epoch 190/200\n",
      "3/3 [==============================] - 0s 3ms/step - loss: 13.4556\n",
      "Epoch 191/200\n",
      "3/3 [==============================] - 0s 3ms/step - loss: 13.6661\n",
      "Epoch 192/200\n",
      "3/3 [==============================] - 0s 2ms/step - loss: 13.0961\n",
      "Epoch 193/200\n",
      "3/3 [==============================] - 0s 3ms/step - loss: 13.0717\n",
      "Epoch 194/200\n",
      "3/3 [==============================] - 0s 3ms/step - loss: 13.0561\n",
      "Epoch 195/200\n",
      "3/3 [==============================] - 0s 2ms/step - loss: 12.9559\n",
      "Epoch 196/200\n",
      "3/3 [==============================] - 0s 2ms/step - loss: 13.2450\n",
      "Epoch 197/200\n",
      "3/3 [==============================] - 0s 2ms/step - loss: 12.9734\n",
      "Epoch 198/200\n",
      "3/3 [==============================] - 0s 2ms/step - loss: 13.1369\n",
      "Epoch 199/200\n",
      "3/3 [==============================] - 0s 2ms/step - loss: 12.7872\n",
      "Epoch 200/200\n",
      "3/3 [==============================] - 0s 3ms/step - loss: 12.9659\n"
     ]
    },
    {
     "data": {
      "text/plain": [
       "<tensorflow.python.keras.callbacks.History at 0x7fa6ef8d7e80>"
      ]
     },
     "execution_count": 83,
     "metadata": {},
     "output_type": "execute_result"
    }
   ],
   "source": [
    "# usage\n",
    "model = build_model(N_STEPS, N_PREDICT)\n",
    "model.fit(X_train, y_train, epochs=200, verbose=1)"
   ]
  },
  {
   "cell_type": "code",
   "execution_count": 84,
   "metadata": {},
   "outputs": [
    {
     "name": "stdout",
     "output_type": "stream",
     "text": [
      "WARNING:tensorflow:9 out of the last 16 calls to <function Model.make_predict_function.<locals>.predict_function at 0x7fa6cfdf5268> triggered tf.function retracing. Tracing is expensive and the excessive number of tracings could be due to (1) creating @tf.function repeatedly in a loop, (2) passing tensors with different shapes, (3) passing Python objects instead of tensors. For (1), please define your @tf.function outside of the loop. For (2), @tf.function has experimental_relax_shapes=True option that relaxes argument shapes that can avoid unnecessary retracing. For (3), please refer to https://www.tensorflow.org/tutorials/customization/performance#python_or_tensor_args and https://www.tensorflow.org/api_docs/python/tf/function for  more details.\n",
      "Test RMSE: 9.085696779636121\n"
     ]
    },
    {
     "data": {
      "image/png": "[encoded data removed]",
      "text/plain": [
       "<Figure size 432x288 with 1 Axes>"
      ]
     },
     "metadata": {
      "needs_background": "light"
     },
     "output_type": "display_data"
    }
   ],
   "source": [
    "# test\n",
    "predictions = model.predict(X_test)\n",
    "plt.plot(predictions, color='r')\n",
    "plt.plot(y_test)\n",
    "rmse = np.sqrt(mean_squared_error(predictions, y_test))\n",
    "print(f\"Test RMSE: {rmse}\")"
   ]
  },
  {
   "cell_type": "code",
   "execution_count": null,
   "metadata": {},
   "outputs": [],
   "source": []
  }
 ],
 "metadata": {
  "kernelspec": {
   "display_name": "Python 3",
   "language": "python",
   "name": "python3"
  },
  "language_info": {
   "codemirror_mode": {
    "name": "ipython",
    "version": 3
   },
   "file_extension": ".py",
   "mimetype": "text/x-python",
   "name": "python",
   "nbconvert_exporter": "python",
   "pygments_lexer": "ipython3",
   "version": "3.6.10"
  }
 },
 "nbformat": 4,
 "nbformat_minor": 4
}
